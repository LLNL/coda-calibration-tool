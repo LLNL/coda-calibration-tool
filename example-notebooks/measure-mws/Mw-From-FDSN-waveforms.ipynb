{
 "cells": [
  {
   "cell_type": "code",
   "execution_count": null,
   "metadata": {},
   "outputs": [],
   "source": [
    "#You might need to install some additonal dependencies (written with ObsPy 1.2.2, Pandas 1.2.3, Numpy 1.20.2, Matplotlib 3.4.1)\n",
    "%sx pip install obspy numpy pandas matplotlib"
   ]
  },
  {
   "cell_type": "code",
   "execution_count": 1,
   "metadata": {},
   "outputs": [],
   "source": [
    "import obspy\n",
    "import requests\n",
    "import json\n",
    "import numpy as np\n",
    "import pandas as pd\n",
    "\n",
    "from obspy import read\n",
    "import matplotlib.pyplot as plt"
   ]
  },
  {
   "cell_type": "markdown",
   "metadata": {},
   "source": [
    "### Upload and run the calibration application services from the terminal before the rest of the notebook\n",
    "java -jar calibration-application-1.0.*-runnable.jar"
   ]
  },
  {
   "cell_type": "markdown",
   "metadata": {},
   "source": [
    "Request data from NCEDC"
   ]
  },
  {
   "cell_type": "code",
   "execution_count": 2,
   "metadata": {},
   "outputs": [],
   "source": [
    "from obspy.clients.fdsn import Client\n",
    "from obspy import UTCDateTime\n",
    "#We could get data from IRIS but we just want Northern Cal data since thats our calibrated model's region\n",
    "client = Client(\"http://service.ncedc.org/\")"
   ]
  },
  {
   "cell_type": "markdown",
   "metadata": {},
   "source": [
    "Here I am just picking events at random that I know the calibrated stations were likely to see and we have mws for comparison.\n",
    "\n",
    "The mw part isn't necessary but makes the plots more challenging to interpret and it would be best to update them to have categorical indicators for the method.\n",
    "\n",
    "For the sake of simplicity in this example we just limit ourselves, the rest is an exercise left to the reader."
   ]
  },
  {
   "cell_type": "code",
   "execution_count": 3,
   "metadata": {
    "scrolled": true
   },
   "outputs": [
    {
     "name": "stdout",
     "output_type": "stream",
     "text": [
      "11 Event(s) in Catalog:\n",
      "2019-10-15T19:42:30.540000Z | +36.645, -121.274 | 4.71 Mw | manual\n",
      "2019-10-15T05:33:42.810000Z | +37.938, -122.057 | 4.46 Mw | manual\n",
      "...\n",
      "2015-08-17T13:49:17.320000Z | +37.837, -122.232 | 4.01 Mw | manual\n",
      "2015-05-22T02:53:00.780000Z | +38.432, -122.250 | 4.09 Mw | manual\n",
      "To see all events call 'print(CatalogObject.__str__(print_all=True))'\n"
     ]
    }
   ],
   "source": [
    "starttime = UTCDateTime(\"2015/01/01\")\n",
    "endtime = UTCDateTime(\"2019/12/01\")\n",
    "cat = client.get_events(starttime=starttime, endtime=endtime,\n",
    "                        minmagnitude=4.0, minlatitude=36.5, maxlatitude=38.5, minlongitude=-123, maxlongitude=-121)\n",
    "print(cat)"
   ]
  },
  {
   "cell_type": "code",
   "execution_count": null,
   "metadata": {
    "scrolled": true
   },
   "outputs": [],
   "source": [
    "st = None\n",
    "\n",
    "for event in cat.events:\n",
    "    t = event.origins[0].time\n",
    "    evid = str(event.resource_id).split(\"/\")[3]\n",
    "    evlat = event.origins[0].latitude\n",
    "    evlon = event.origins[0].longitude\n",
    "    stations = [\"BRK\", \"BKS\", \"CVS\", \"MHC\", \"SAO\", \"WENL\"]\n",
    "    for sta in stations :\n",
    "        ste = client.get_waveforms(\"BK\", sta, \"*\", \"BHE\", t - 500, t + 3000, attach_response=True)\n",
    "        stn = client.get_waveforms(\"BK\", sta, \"*\", \"BHN\", t - 500, t + 3000, attach_response=True)\n",
    "\n",
    "        #Instrument correction may be required\n",
    "        pre_filt = (0.005, 0.006, 30.0, 35.0)           \n",
    "        ste.remove_response(output='VEL', pre_filt=pre_filt)\n",
    "        stn.remove_response(output='VEL', pre_filt=pre_filt)\n",
    "\n",
    "        #ObsPy defaults to m/s for VEL and we want NM/s\n",
    "        for trace in ste.traces:\n",
    "            trace.data = trace.data * 1e+9\n",
    "        for trace in stn.traces:\n",
    "            trace.data = trace.data * 1e+9        \n",
    "                    \n",
    "        sten = ste + stn\n",
    "        for tr in sten.traces:\n",
    "            tr.meta[\"evid\"] = evid\n",
    "            tr.meta[\"evlat\"] = evlat\n",
    "            tr.meta[\"evlon\"] = evlon\n",
    "            tr.meta[\"evtime\"] = t\n",
    "        if (st == None):\n",
    "            st = sten\n",
    "        else:\n",
    "            st = st + sten\n",
    "\n",
    "print(st)"
   ]
  },
  {
   "cell_type": "markdown",
   "metadata": {},
   "source": [
    "Saving off the data to save us some time and bandwidth if we need to retrieve the results again"
   ]
  },
  {
   "cell_type": "code",
   "execution_count": null,
   "metadata": {},
   "outputs": [],
   "source": [
    "st.write(\"data_query_result.pickle\")"
   ]
  },
  {
   "cell_type": "code",
   "execution_count": 4,
   "metadata": {},
   "outputs": [],
   "source": [
    "st = obspy.read(\"data_query_result.pickle\")"
   ]
  },
  {
   "cell_type": "markdown",
   "metadata": {},
   "source": [
    "Function to convert a Stream to a (minimal) Waveform object"
   ]
  },
  {
   "cell_type": "code",
   "execution_count": 5,
   "metadata": {},
   "outputs": [],
   "source": [
    "def irisTraceToWaveformJson(stream):   \n",
    "    obj = []\n",
    "    for tr in stream.traces:        \n",
    "        stat = tr.stats\n",
    "        inventory = client.get_stations(network=stat.network, station=stat.station,\n",
    "                                starttime=stat.starttime,\n",
    "                                endtime=stat.endtime)  \n",
    "        wave = {}\n",
    "        event = {}\n",
    "        event[\"eventId\"] = tr.meta[\"evid\"]\n",
    "        event[\"originTime\"] = str(tr.meta[\"evtime\"])\n",
    "        event[\"latitude\"] = tr.meta[\"evlat\"]\n",
    "        event[\"longitude\"] = tr.meta[\"evlon\"]\n",
    "        wave[\"event\"] = event\n",
    "        \n",
    "        stream = {}\n",
    "        station = {}\n",
    "        station[\"networkName\"] = stat.network\n",
    "        station[\"stationName\"] = stat.station\n",
    "        station[\"latitude\"] = inventory.networks[0].stations[0].latitude\n",
    "        station[\"longitude\"] = inventory.networks[0].stations[0].longitude\n",
    "        stream[\"station\"] = station;\n",
    "        stream[\"channelName\"] = stat.channel\n",
    "        wave[\"stream\"] = stream\n",
    "        \n",
    "        wave[\"beginTime\"] = str(stat.starttime)\n",
    "        wave[\"endTime\"] = str(stat.endtime)\n",
    "        wave[\"sampleRate\"] = stat.sampling_rate\n",
    "        wave[\"segment\"] = tr.data.tolist()\n",
    "        obj.append(wave)\n",
    "    \n",
    "    envelopeJob = {}\n",
    "    envelopeJob[\"data\"] = obj\n",
    "    \n",
    "    return envelopeJob"
   ]
  },
  {
   "cell_type": "code",
   "execution_count": 6,
   "metadata": {},
   "outputs": [],
   "source": [
    "waveData = irisTraceToWaveformJson(st)"
   ]
  },
  {
   "cell_type": "markdown",
   "metadata": {},
   "source": [
    "The service uses self signed certs, unless you specify ones to use, so for this example we just ignore the ssl verifcation errors. \n",
    "\n",
    "### Do not do this if you are using anything not on localhost in this notebook!"
   ]
  },
  {
   "cell_type": "code",
   "execution_count": 7,
   "metadata": {},
   "outputs": [],
   "source": [
    "requests.packages.urllib3.disable_warnings()"
   ]
  },
  {
   "cell_type": "markdown",
   "metadata": {},
   "source": [
    "Post the frequency band based model parameters"
   ]
  },
  {
   "cell_type": "code",
   "execution_count": 8,
   "metadata": {},
   "outputs": [
    {
     "name": "stdout",
     "output_type": "stream",
     "text": [
      "200\n",
      "\n"
     ]
    }
   ],
   "source": [
    "with open(\"norcal_bands.json\") as bands:\n",
    "    norcal_bands = json.load(bands)\n",
    "    r = requests.post('https://127.0.0.1:53921/api/v1/params/shared-fb-parameters/batch', json=norcal_bands, verify=False)\n",
    "    print(r.status_code)\n",
    "    print(r.text)"
   ]
  },
  {
   "cell_type": "markdown",
   "metadata": {},
   "source": [
    "Post the site corrections to the service for northern california (obtained from running the calibration service, not shown here)."
   ]
  },
  {
   "cell_type": "code",
   "execution_count": 9,
   "metadata": {},
   "outputs": [
    {
     "name": "stdout",
     "output_type": "stream",
     "text": [
      "200\n"
     ]
    }
   ],
   "source": [
    "with open(\"norcal_site.json\") as corrections:\n",
    "    norcal_corrections = json.load(corrections)\n",
    "    r = requests.post('https://127.0.0.1:53921/api/v1/params/site-fb-parameters/batch', json=norcal_corrections, verify=False)\n",
    "    print(r.status_code)"
   ]
  },
  {
   "cell_type": "markdown",
   "metadata": {},
   "source": [
    "Post the data to the envelopes endpoint and decode the resulting stacks. Note that I am not posting envelope bands in this request and just relying on the default configuration so this will output fewer bands than we actually calibrated against. In practice I would want to submit the bands with the job to get the full spectra I have calibrations for (see EnvelopeJob for the format for that)."
   ]
  },
  {
   "cell_type": "code",
   "execution_count": 10,
   "metadata": {},
   "outputs": [
    {
     "name": "stdout",
     "output_type": "stream",
     "text": [
      "200\n"
     ]
    }
   ],
   "source": [
    "r = requests.post('https://127.0.0.1:53921/api/v1/envelopes/create/batch-stacks-only/10000', json=waveData, verify=False)\n",
    "print(r.status_code)\n",
    "envData = json.loads(r.text)[\"resultPayload\"]"
   ]
  },
  {
   "cell_type": "markdown",
   "metadata": {},
   "source": [
    "Post data to Mw endpoint and receive the measurements back"
   ]
  },
  {
   "cell_type": "code",
   "execution_count": 11,
   "metadata": {
    "scrolled": true
   },
   "outputs": [
    {
     "name": "stdout",
     "output_type": "stream",
     "text": [
      "200\n"
     ]
    }
   ],
   "source": [
    "request = {\n",
    "    \"stacks\": envData,\n",
    "    \"autopickingEnabled\":\"true\"\n",
    "}\n",
    "r = requests.post('https://127.0.0.1:53921/api/v1/measurement/measure-mws', json=request, verify=False, timeout=10000)\n",
    "print(r.status_code)\n",
    "eventMws = json.loads(r.text)"
   ]
  },
  {
   "cell_type": "markdown",
   "metadata": {},
   "source": [
    "This will return details about the measured events. I'm just picking one to look at here."
   ]
  },
  {
   "cell_type": "code",
   "execution_count": 12,
   "metadata": {},
   "outputs": [
    {
     "name": "stdout",
     "output_type": "stream",
     "text": [
      "{\n",
      "    \"eventId\": \"72453246\",\n",
      "    \"mw\": 4.271013291513935,\n",
      "    \"mwSd\": null,\n",
      "    \"mw1Max\": 4.357547301878603,\n",
      "    \"mw1Min\": 4.173798261585144,\n",
      "    \"mw2Max\": 4.357547301878603,\n",
      "    \"mw2Min\": 4.062097843507903,\n",
      "    \"refMw\": null,\n",
      "    \"valMw\": null,\n",
      "    \"apparentStressInMpa\": 0.14708008050657245,\n",
      "    \"apparentStress1Max\": 0.14708008050657245,\n",
      "    \"apparentStress1Min\": 0.14708008050657245,\n",
      "    \"apparentStress2Max\": 0.14708008050657245,\n",
      "    \"apparentStress2Min\": 0.14708008050657245,\n",
      "    \"refApparentStressInMpa\": null,\n",
      "    \"valApparentStressInMpa\": null,\n",
      "    \"cornerFreq\": 1.029730309287659,\n",
      "    \"cornerFreqSd\": null,\n",
      "    \"dataCount\": 58,\n",
      "    \"latitude\": 38.4316667,\n",
      "    \"longitude\": -122.2503333,\n",
      "    \"depth\": 0.0,\n",
      "    \"datetime\": \"2015-05-22T02:53:00.780Z\",\n",
      "    \"iterations\": 27,\n",
      "    \"misfit\": 0.002330191867568431\n",
      "}\n"
     ]
    }
   ],
   "source": [
    "print(json.dumps(eventMws[\"measuredMwDetails\"][\"72453246\"], indent=4, sort_keys=False))"
   ]
  },
  {
   "cell_type": "markdown",
   "metadata": {},
   "source": [
    "Plot the returned Mws vs the NCEDC Mws"
   ]
  },
  {
   "cell_type": "code",
   "execution_count": 13,
   "metadata": {},
   "outputs": [],
   "source": [
    "mwcomp = {}\n",
    "\n",
    "for catEv in cat.events:\n",
    "#   Note this split is for the NCEDC and how they format their event identification strings, you will need to update this for IRIS or others!\n",
    "    x = mwcomp.get(str(str(catEv.resource_id).split(\"/\")[3]), {})\n",
    "    x[\"eventTime\"] = catEv.origins[0].time\n",
    "    x[\"ncal_mw\"] = catEv.magnitudes[0].mag\n",
    "    mwcomp[str(str(catEv.resource_id).split(\"/\")[3])] = x\n",
    "\n",
    "for evs in eventMws[\"measuredMwDetails\"]:\n",
    "    x = mwcomp.get(str(eventMws[\"measuredMwDetails\"][evs][\"eventId\"]), {})\n",
    "    x[\"cct_mw\"] = eventMws[\"measuredMwDetails\"][evs][\"mw\"]\n",
    "    x[\"minMw\"] = eventMws[\"measuredMwDetails\"][evs][\"mw2Min\"]\n",
    "    x[\"maxMw\"] = eventMws[\"measuredMwDetails\"][evs][\"mw2Max\"]\n",
    "    mwcomp[str(eventMws[\"measuredMwDetails\"][evs][\"eventId\"])] = x\n",
    "    \n",
    "df = pd.DataFrame.from_dict(mwcomp, orient='index')"
   ]
  },
  {
   "cell_type": "code",
   "execution_count": 14,
   "metadata": {},
   "outputs": [
    {
     "data": {
      "text/html": [
       "<div>\n",
       "<style scoped>\n",
       "    .dataframe tbody tr th:only-of-type {\n",
       "        vertical-align: middle;\n",
       "    }\n",
       "\n",
       "    .dataframe tbody tr th {\n",
       "        vertical-align: top;\n",
       "    }\n",
       "\n",
       "    .dataframe thead th {\n",
       "        text-align: right;\n",
       "    }\n",
       "</style>\n",
       "<table border=\"1\" class=\"dataframe\">\n",
       "  <thead>\n",
       "    <tr style=\"text-align: right;\">\n",
       "      <th></th>\n",
       "      <th>eventTime</th>\n",
       "      <th>ncal_mw</th>\n",
       "      <th>cct_mw</th>\n",
       "      <th>minMw</th>\n",
       "      <th>maxMw</th>\n",
       "    </tr>\n",
       "  </thead>\n",
       "  <tbody>\n",
       "    <tr>\n",
       "      <th>72782971</th>\n",
       "      <td>2017-03-31T10:55:53.700000Z</td>\n",
       "      <td>4.00</td>\n",
       "      <td>3.881875</td>\n",
       "      <td>3.688468</td>\n",
       "      <td>3.979786</td>\n",
       "    </tr>\n",
       "    <tr>\n",
       "      <th>72507396</th>\n",
       "      <td>2015-08-17T13:49:17.320000Z</td>\n",
       "      <td>4.01</td>\n",
       "      <td>4.207557</td>\n",
       "      <td>4.075846</td>\n",
       "      <td>4.321306</td>\n",
       "    </tr>\n",
       "    <tr>\n",
       "      <th>72906781</th>\n",
       "      <td>2017-10-10T00:53:18.270000Z</td>\n",
       "      <td>4.09</td>\n",
       "      <td>4.156330</td>\n",
       "      <td>4.109885</td>\n",
       "      <td>4.210936</td>\n",
       "    </tr>\n",
       "    <tr>\n",
       "      <th>72453246</th>\n",
       "      <td>2015-05-22T02:53:00.780000Z</td>\n",
       "      <td>4.09</td>\n",
       "      <td>4.271013</td>\n",
       "      <td>4.062098</td>\n",
       "      <td>4.357547</td>\n",
       "    </tr>\n",
       "    <tr>\n",
       "      <th>73105276</th>\n",
       "      <td>2018-11-02T12:58:54.230000Z</td>\n",
       "      <td>4.11</td>\n",
       "      <td>4.127312</td>\n",
       "      <td>3.979721</td>\n",
       "      <td>4.163055</td>\n",
       "    </tr>\n",
       "    <tr>\n",
       "      <th>72663506</th>\n",
       "      <td>2016-07-19T21:38:38.910000Z</td>\n",
       "      <td>4.22</td>\n",
       "      <td>4.331912</td>\n",
       "      <td>4.225718</td>\n",
       "      <td>4.436379</td>\n",
       "    </tr>\n",
       "    <tr>\n",
       "      <th>73225421</th>\n",
       "      <td>2019-07-16T20:11:01.470000Z</td>\n",
       "      <td>4.31</td>\n",
       "      <td>4.271586</td>\n",
       "      <td>4.107125</td>\n",
       "      <td>4.366192</td>\n",
       "    </tr>\n",
       "    <tr>\n",
       "      <th>72948801</th>\n",
       "      <td>2018-01-04T10:39:37.730000Z</td>\n",
       "      <td>4.38</td>\n",
       "      <td>4.318591</td>\n",
       "      <td>4.227418</td>\n",
       "      <td>4.405946</td>\n",
       "    </tr>\n",
       "    <tr>\n",
       "      <th>73291880</th>\n",
       "      <td>2019-10-15T05:33:42.810000Z</td>\n",
       "      <td>4.46</td>\n",
       "      <td>4.539946</td>\n",
       "      <td>4.427682</td>\n",
       "      <td>4.611228</td>\n",
       "    </tr>\n",
       "    <tr>\n",
       "      <th>72923380</th>\n",
       "      <td>2017-11-13T19:31:29.050000Z</td>\n",
       "      <td>4.58</td>\n",
       "      <td>4.682418</td>\n",
       "      <td>4.473930</td>\n",
       "      <td>4.781167</td>\n",
       "    </tr>\n",
       "    <tr>\n",
       "      <th>73292360</th>\n",
       "      <td>2019-10-15T19:42:30.540000Z</td>\n",
       "      <td>4.71</td>\n",
       "      <td>4.710333</td>\n",
       "      <td>4.533940</td>\n",
       "      <td>4.905543</td>\n",
       "    </tr>\n",
       "  </tbody>\n",
       "</table>\n",
       "</div>"
      ],
      "text/plain": [
       "                            eventTime  ncal_mw    cct_mw     minMw     maxMw\n",
       "72782971  2017-03-31T10:55:53.700000Z     4.00  3.881875  3.688468  3.979786\n",
       "72507396  2015-08-17T13:49:17.320000Z     4.01  4.207557  4.075846  4.321306\n",
       "72906781  2017-10-10T00:53:18.270000Z     4.09  4.156330  4.109885  4.210936\n",
       "72453246  2015-05-22T02:53:00.780000Z     4.09  4.271013  4.062098  4.357547\n",
       "73105276  2018-11-02T12:58:54.230000Z     4.11  4.127312  3.979721  4.163055\n",
       "72663506  2016-07-19T21:38:38.910000Z     4.22  4.331912  4.225718  4.436379\n",
       "73225421  2019-07-16T20:11:01.470000Z     4.31  4.271586  4.107125  4.366192\n",
       "72948801  2018-01-04T10:39:37.730000Z     4.38  4.318591  4.227418  4.405946\n",
       "73291880  2019-10-15T05:33:42.810000Z     4.46  4.539946  4.427682  4.611228\n",
       "72923380  2017-11-13T19:31:29.050000Z     4.58  4.682418  4.473930  4.781167\n",
       "73292360  2019-10-15T19:42:30.540000Z     4.71  4.710333  4.533940  4.905543"
      ]
     },
     "execution_count": 14,
     "metadata": {},
     "output_type": "execute_result"
    }
   ],
   "source": [
    "df.sort_values([\"ncal_mw\"], ascending=True)"
   ]
  },
  {
   "cell_type": "code",
   "execution_count": 15,
   "metadata": {},
   "outputs": [
    {
     "data": {
      "image/png": "[encoded data removed]",
      "text/plain": [
       "<Figure size 720x720 with 1 Axes>"
      ]
     },
     "metadata": {
      "needs_background": "light"
     },
     "output_type": "display_data"
    }
   ],
   "source": [
    "fig, ax = plt.subplots()\n",
    "x1 = df[\"cct_mw\"]\n",
    "x2 = df[\"ncal_mw\"]\n",
    "uqLow = df[\"cct_mw\"]-df[\"minMw\"]\n",
    "uqHigh = df[\"maxMw\"]-df[\"cct_mw\"]\n",
    "\n",
    "scale = 100.0\n",
    "\n",
    "plt.errorbar(x1,x2,yerr=[uqLow, uqHigh], marker=\"o\", linestyle=\"None\", markersize=7, markeredgecolor='black', markerfacecolor='black', capsize=10, color='black')\n",
    "\n",
    "ax.scatter(x1,x1, c='blue', s=scale, label='NCal Ma',\n",
    "           alpha=1, edgecolors='none')\n",
    "\n",
    "ax.legend()\n",
    "ax.grid(True)\n",
    "ax.set_aspect(1)\n",
    "fig.set_size_inches(10,10)\n",
    "ax.set_ylabel(\"Ncal Mw\")\n",
    "ax.set_xlabel(\"CCT Mw\")\n",
    "\n",
    "plt.show()"
   ]
  },
  {
   "cell_type": "markdown",
   "metadata": {},
   "source": [
    "From this we can see that with this rough calibration I whipped up was not perfect and start to look at where the gaps are and begin refining the calibration. Usually in the CCT GUI application but in practice you could do so entirely using the REST API we have been using in this notebook. \n",
    "\n",
    "Also, the envelopes are entirely auto-picked in this instance so tweaking the parameters to use different windows and SNR criteria can likely improve this even with a very rough calibration."
   ]
  },
  {
   "cell_type": "code",
   "execution_count": 16,
   "metadata": {},
   "outputs": [
    {
     "data": {
      "text/plain": [
       "<AxesSubplot:>"
      ]
     },
     "execution_count": 16,
     "metadata": {},
     "output_type": "execute_result"
    },
    {
     "data": {
      "image/png": "[encoded data removed]",
      "text/plain": [
       "<Figure size 432x288 with 1 Axes>"
      ]
     },
     "metadata": {
      "needs_background": "light"
     },
     "output_type": "display_data"
    }
   ],
   "source": [
    "df.plot(marker=\"o\", linestyle=\"None\")"
   ]
  },
  {
   "cell_type": "code",
   "execution_count": 17,
   "metadata": {
    "scrolled": true
   },
   "outputs": [
    {
     "data": {
      "text/plain": [
       "<AxesSubplot:>"
      ]
     },
     "execution_count": 17,
     "metadata": {},
     "output_type": "execute_result"
    },
    {
     "data": {
      "image/png": "[encoded data removed]",
      "text/plain": [
       "<Figure size 432x288 with 1 Axes>"
      ]
     },
     "metadata": {
      "needs_background": "light"
     },
     "output_type": "display_data"
    }
   ],
   "source": [
    "df[df[\"ncal_mw\"] < 4.2][['ncal_mw','cct_mw']].plot(marker=\"o\", linestyle=\"None\")"
   ]
  },
  {
   "cell_type": "code",
   "execution_count": null,
   "metadata": {},
   "outputs": [],
   "source": []
  }
 ],
 "metadata": {
  "kernelspec": {
   "display_name": "Python 3",
   "language": "python",
   "name": "python3"
  },
  "language_info": {
   "codemirror_mode": {
    "name": "ipython",
    "version": 3
   },
   "file_extension": ".py",
   "mimetype": "text/x-python",
   "name": "python",
   "nbconvert_exporter": "python",
   "pygments_lexer": "ipython3",
   "version": "3.8.8"
  }
 },
 "nbformat": 4,
 "nbformat_minor": 4
}
