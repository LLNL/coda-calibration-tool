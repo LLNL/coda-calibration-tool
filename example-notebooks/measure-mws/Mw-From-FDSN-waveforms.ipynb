{
 "cells": [
  {
   "cell_type": "code",
   "execution_count": 1,
   "metadata": {},
   "outputs": [],
   "source": [
    "#You might need to install obspy if you don't already have it (written with ObsPy 1.0.1)\n",
    "#%sx pip install obspy"
   ]
  },
  {
   "cell_type": "code",
   "execution_count": 2,
   "metadata": {},
   "outputs": [],
   "source": [
    "import obspy\n",
    "import requests\n",
    "import json\n",
    "\n",
    "from obspy import read\n",
    "import matplotlib.pyplot as plt"
   ]
  },
  {
   "cell_type": "markdown",
   "metadata": {},
   "source": [
    "Function to convert a Stream to a (minimal) Waveform object"
   ]
  },
  {
   "cell_type": "code",
   "execution_count": 3,
   "metadata": {},
   "outputs": [],
   "source": [
    "def irisTraceToWaveformJson(stream, evid, originTime, evLat, evLon):   \n",
    "    obj = []\n",
    "    for tr in stream.traces:        \n",
    "        stat = tr.stats\n",
    "        inventory = client.get_stations(network=stat.network, station=stat.station,\n",
    "                                starttime=stat.starttime,\n",
    "                                endtime=stat.endtime)  \n",
    "        wave = {}\n",
    "        event = {}\n",
    "        event[\"eventId\"] = evid\n",
    "        event[\"originTime\"] = originTime\n",
    "        event[\"latitude\"] = evLat\n",
    "        event[\"longitude\"] = evLon\n",
    "        wave[\"event\"] = event\n",
    "        \n",
    "        stream = {}\n",
    "        station = {}\n",
    "        station[\"networkName\"] = stat.network\n",
    "        station[\"stationName\"] = stat.station\n",
    "        station[\"latitude\"] = inventory.networks[0].stations[0].latitude\n",
    "        station[\"longitude\"] = inventory.networks[0].stations[0].longitude\n",
    "        stream[\"station\"] = station;\n",
    "        stream[\"channelName\"] = stat.channel\n",
    "        wave[\"stream\"] = stream\n",
    "        \n",
    "        wave[\"beginTime\"] = str(stat.starttime)\n",
    "        wave[\"endTime\"] = str(stat.endtime)\n",
    "        wave[\"sampleRate\"] = stat.sampling_rate\n",
    "        wave[\"segment\"] = tr.data.tolist()\n",
    "        obj.append(wave)\n",
    "    \n",
    "    envelopeJob = {}\n",
    "    envelopeJob[\"data\"] = obj\n",
    "    \n",
    "    return envelopeJob"
   ]
  },
  {
   "cell_type": "markdown",
   "metadata": {},
   "source": [
    "### Upload and run the calibration and envelope application services from the terminal before the rest of the notebook\n",
    "\n",
    "java -jar envelope-application-1.0.*-runnable.jar\n",
    "\n",
    "java -jar calibration-application-1.0.*-runnable.jar"
   ]
  },
  {
   "cell_type": "markdown",
   "metadata": {},
   "source": [
    "Request data from NCEDC"
   ]
  },
  {
   "cell_type": "code",
   "execution_count": 4,
   "metadata": {},
   "outputs": [],
   "source": [
    "from obspy.clients.fdsn import Client\n",
    "from obspy import UTCDateTime\n",
    "#We could get data from IRIS but we just want Northern Cal data since thats our calibrated model's region\n",
    "client = Client(\"http://service.ncedc.org/\")"
   ]
  },
  {
   "cell_type": "markdown",
   "metadata": {},
   "source": [
    "Here I am just picking an event that I know the calibration should be valid for given the stations in question"
   ]
  },
  {
   "cell_type": "code",
   "execution_count": 5,
   "metadata": {
    "scrolled": true
   },
   "outputs": [
    {
     "name": "stdout",
     "output_type": "stream",
     "text": [
      "1 Event(s) in Catalog:\n",
      "2007-10-31T03:04:54.810000Z | +37.434, -121.774 | 5.45 Mw | manual\n"
     ]
    }
   ],
   "source": [
    "starttime = UTCDateTime(\"2007/10/31\")\n",
    "endtime = UTCDateTime(\"2007/11/01\")\n",
    "cat = client.get_events(starttime=starttime, endtime=endtime,\n",
    "                        minmagnitude=4.0, minlatitude=36.5, maxlatitude=38.5, minlongitude=-123, maxlongitude=-121)\n",
    "print(cat)"
   ]
  },
  {
   "cell_type": "code",
   "execution_count": 6,
   "metadata": {
    "scrolled": true
   },
   "outputs": [
    {
     "name": "stdout",
     "output_type": "stream",
     "text": [
      "12 Trace(s) in Stream:\n",
      "BK.BRK..BHE  | 2007-10-31T02:56:34.835645Z - 2007-10-31T03:54:54.810645Z | 40.0 Hz, 140000 samples\n",
      "BK.BRK..BHN  | 2007-10-31T02:56:34.835645Z - 2007-10-31T03:54:54.810645Z | 40.0 Hz, 140000 samples\n",
      "BK.BKS..BHE  | 2007-10-31T02:56:34.823338Z - 2007-10-31T03:54:54.798338Z | 40.0 Hz, 140000 samples\n",
      "BK.BKS..BHN  | 2007-10-31T02:56:34.823338Z - 2007-10-31T03:54:54.798338Z | 40.0 Hz, 140000 samples\n",
      "BK.CVS..BHE  | 2007-10-31T02:56:34.837466Z - 2007-10-31T03:54:54.812466Z | 40.0 Hz, 140000 samples\n",
      "BK.CVS..BHN  | 2007-10-31T02:56:34.837465Z - 2007-10-31T03:54:54.812465Z | 40.0 Hz, 140000 samples\n",
      "BK.MHC..BHE  | 2007-10-31T02:56:34.835642Z - 2007-10-31T03:54:54.810642Z | 40.0 Hz, 140000 samples\n",
      "BK.MHC..BHN  | 2007-10-31T02:56:34.835642Z - 2007-10-31T03:54:54.810642Z | 40.0 Hz, 140000 samples\n",
      "BK.SAO..BHE  | 2007-10-31T02:56:34.823144Z - 2007-10-31T03:54:54.798144Z | 40.0 Hz, 140000 samples\n",
      "BK.SAO..BHN  | 2007-10-31T02:56:34.823144Z - 2007-10-31T03:54:54.798144Z | 40.0 Hz, 140000 samples\n",
      "BK.WENL..BHE | 2007-10-31T02:56:34.827466Z - 2007-10-31T03:54:54.802466Z | 40.0 Hz, 140000 samples\n",
      "BK.WENL..BHN | 2007-10-31T02:56:34.827466Z - 2007-10-31T03:54:54.802466Z | 40.0 Hz, 140000 samples\n"
     ]
    }
   ],
   "source": [
    "st = None\n",
    "\n",
    "for event in cat.events:\n",
    "    t = event.origins[0].time\n",
    "    evid = str(event.resource_id).split(\"/\")[3]\n",
    "    evlat = event.origins[0].latitude\n",
    "    evlon = event.origins[0].longitude\n",
    "    stations = [\"BRK\", \"BKS\", \"CVS\", \"MHC\", \"SAO\", \"WENL\"]\n",
    "    for sta in stations :\n",
    "        ste = client.get_waveforms(\"BK\", sta, \"*\", \"BHE\", t - 500, t + 3000, attach_response=True)\n",
    "        stn = client.get_waveforms(\"BK\", sta, \"*\", \"BHN\", t - 500, t + 3000, attach_response=True)\n",
    "\n",
    "        if (st == None):\n",
    "            st = ste + stn\n",
    "        else:\n",
    "            st = st + ste + stn    \n",
    "\n",
    "print(st)"
   ]
  },
  {
   "cell_type": "markdown",
   "metadata": {},
   "source": [
    "Convert the ObsPy Stream into Waveform JSON"
   ]
  },
  {
   "cell_type": "code",
   "execution_count": 7,
   "metadata": {},
   "outputs": [],
   "source": [
    "waveData = irisTraceToWaveformJson(st, evid, str(t), evlat, evlon)"
   ]
  },
  {
   "cell_type": "markdown",
   "metadata": {},
   "source": [
    "The service uses self signed certs, unless you specify ones to use, so for this example we just ignore the ssl verifcation errors. \n",
    "\n",
    "### Do not do this if you are using anything not on localhost in this notebook!"
   ]
  },
  {
   "cell_type": "code",
   "execution_count": 8,
   "metadata": {},
   "outputs": [],
   "source": [
    "requests.packages.urllib3.disable_warnings()"
   ]
  },
  {
   "cell_type": "markdown",
   "metadata": {},
   "source": [
    "Post the frequency band based model parameters"
   ]
  },
  {
   "cell_type": "code",
   "execution_count": 9,
   "metadata": {},
   "outputs": [
    {
     "name": "stdout",
     "output_type": "stream",
     "text": [
      "200\n",
      "\n"
     ]
    }
   ],
   "source": [
    "with open(\"norcal_bands.json\") as bands:\n",
    "    norcal_bands = json.load(bands)\n",
    "    r = requests.post('https://127.0.0.1:53921/api/v1/params/shared-fb-parameters/batch', json=norcal_bands, verify=False)\n",
    "    print(r.status_code)\n",
    "    print(r.text)"
   ]
  },
  {
   "cell_type": "markdown",
   "metadata": {},
   "source": [
    "Post the site corrections to the service for northern california (obtained from running the calibration service, not shown here)."
   ]
  },
  {
   "cell_type": "code",
   "execution_count": 10,
   "metadata": {},
   "outputs": [
    {
     "name": "stdout",
     "output_type": "stream",
     "text": [
      "200\n"
     ]
    }
   ],
   "source": [
    "with open(\"norcal_site.json\") as corrections:\n",
    "    norcal_corrections = json.load(corrections)\n",
    "    r = requests.post('https://127.0.0.1:53921/api/v1/params/site-fb-parameters/batch', json=norcal_corrections, verify=False)\n",
    "    print(r.status_code)"
   ]
  },
  {
   "cell_type": "markdown",
   "metadata": {},
   "source": [
    "Post the data to the envelopes service and decode the resulting stacks. Note that I am not posting envelope bands in this request and just relying on the default configuration so this will output fewer bands than we actually calibrated against. In practice I would want to submit the bands with the job to get the full spectra I have calibrations for (see EnvelopeJob for the format for that)."
   ]
  },
  {
   "cell_type": "code",
   "execution_count": 11,
   "metadata": {
    "scrolled": false
   },
   "outputs": [
    {
     "name": "stdout",
     "output_type": "stream",
     "text": [
      "200\n"
     ]
    }
   ],
   "source": [
    "r = requests.post('https://127.0.0.1:53922/api/v1/envelopes/create/batch-stacks-only/10000', json=waveData, verify=False)\n",
    "print(r.status_code)\n",
    "envData = json.loads(r.text)[\"resultPayload\"]"
   ]
  },
  {
   "cell_type": "markdown",
   "metadata": {},
   "source": [
    "Post data to Mw endpoint and receive the measurements back"
   ]
  },
  {
   "cell_type": "code",
   "execution_count": 12,
   "metadata": {
    "scrolled": true
   },
   "outputs": [
    {
     "name": "stdout",
     "output_type": "stream",
     "text": [
      "200\n"
     ]
    }
   ],
   "source": [
    "r = requests.post('https://127.0.0.1:53921/api/v1/measurement/measure-mws-from-stacks/true', json=envData, verify=False)\n",
    "print(r.status_code)\n",
    "eventMws = json.loads(r.text)"
   ]
  },
  {
   "cell_type": "code",
   "execution_count": 47,
   "metadata": {},
   "outputs": [
    {
     "name": "stdout",
     "output_type": "stream",
     "text": [
      "{'eventId': '40204628', 'mw': 5.405543565488166, 'refMw': None, 'apparentStressInMpa': 0.5181555647743256, 'refApparentStressInMpa': None, 'dataCount': 60, 'latitude': 37.4325, 'longitude': -121.7756667, 'datetime': '2007-10-31T03:04:54.820Z'}\n"
     ]
    }
   ],
   "source": [
    "print(list(eventMws[\"measuredMwDetails\"].values())[0])"
   ]
  },
  {
   "cell_type": "markdown",
   "metadata": {},
   "source": [
    "Plot the returned Mws vs the NCEDC Mws"
   ]
  },
  {
   "cell_type": "code",
   "execution_count": 49,
   "metadata": {},
   "outputs": [
    {
     "data": {
      "image/png": "[encoded data removed]",
      "text/plain": [
       "<Figure size 432x288 with 1 Axes>"
      ]
     },
     "metadata": {
      "needs_background": "light"
     },
     "output_type": "display_data"
    }
   ],
   "source": [
    "fig, ax = plt.subplots()\n",
    "x1 = [cat.events[0].magnitudes[0].mag]\n",
    "x2 = [list(eventMws[\"measuredMwDetails\"].values())[0][\"mw\"]]\n",
    "scale = 200.0\n",
    "\n",
    "ax.scatter(x1,x1, c='blue', s=scale, label='NC Mw',\n",
    "           alpha=1, edgecolors='none')\n",
    "\n",
    "ax.scatter(x2,x2, c='red', s=scale, label='CCT Mw',\n",
    "           alpha=1, edgecolors='none')\n",
    "\n",
    "ax.legend()\n",
    "ax.grid(True)\n",
    "\n",
    "plt.show()"
   ]
  },
  {
   "cell_type": "code",
   "execution_count": null,
   "metadata": {},
   "outputs": [],
   "source": []
  }
 ],
 "metadata": {
  "kernelspec": {
   "display_name": "Python 3",
   "language": "python",
   "name": "python3"
  },
  "language_info": {
   "codemirror_mode": {
    "name": "ipython",
    "version": 3
   },
   "file_extension": ".py",
   "mimetype": "text/x-python",
   "name": "python",
   "nbconvert_exporter": "python",
   "pygments_lexer": "ipython3",
   "version": "3.7.3"
  }
 },
 "nbformat": 4,
 "nbformat_minor": 2
}
